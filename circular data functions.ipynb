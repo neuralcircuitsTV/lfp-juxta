{
 "cells": [
  {
   "cell_type": "markdown",
   "metadata": {},
   "source": [
    "## Circular Data Functions, TJV 20/04/2020\n",
    "Based on Zar, J.H. Two-sample and multisample testing of circular data. Behavior Research Methods & Instrumentation 8, 329–330 (1976). https://doi.org/10.3758/BF03201734\n",
    "\n",
    "Z test statistic table: http://webspace.ship.edu/pgmarr/Geo441/Tables/Rayleighs%20z%20Table.pdf"
   ]
  },
  {
   "cell_type": "markdown",
   "metadata": {},
   "source": [
    "### Dependencies"
   ]
  },
  {
   "cell_type": "code",
   "execution_count": 3,
   "metadata": {},
   "outputs": [],
   "source": [
    "import numpy as np\n",
    "import random"
   ]
  },
  {
   "cell_type": "markdown",
   "metadata": {},
   "source": [
    "### Data"
   ]
  },
  {
   "cell_type": "code",
   "execution_count": 20,
   "metadata": {},
   "outputs": [],
   "source": [
    "# Generate some test data (create a random list of angles in degrees)\n",
    "randomList=[]\n",
    "for i in range(0, 300):\n",
    "    randomList.append(random.randint(90, 270))"
   ]
  },
  {
   "cell_type": "code",
   "execution_count": 21,
   "metadata": {},
   "outputs": [
    {
     "name": "stdout",
     "output_type": "stream",
     "text": [
      "[ 95 166 267 226 253 187 129 267 256 266 146 193 199 123 261 139 234 145\n",
      " 140 227 101  92  90 192 256 124 258 181 267 145 130 263 166 195 155 200\n",
      " 189 122 224 234 104 164 218 150 155  92 118 141 205 270 168 220 217 120\n",
      " 225 185 235 223 164 179 133 147 151 212 238 207 147 255 106 217 216 151\n",
      " 123 269 169 187 172 236 234 100 202 145 251 238 172 185 150 142 124 190\n",
      "  94 258 134 125 209  90 158 238 125 211 129 106 228 265 205 270 182 238\n",
      " 112 265 148 101 256 121 267 266 149 147 270 156 259 189 142 116 263 246\n",
      "  98 234 113 269 259 261 190 162 123  94 210  97 221 125  93 147 147 239\n",
      " 270 207 109 207 204 182 264 145 183 201 170 119 242 170 178 104 171 117\n",
      " 119 128 126 215 261 158 108 141 118 120 167 196 242 211 253 222 105 112\n",
      " 181 248 135 115 192 268 246 148 105 218 258 200 226 213 266 158 248 110\n",
      " 172 244 185 111 144 122 128 193 136 256 167 125 257 179 170 136 218 141\n",
      " 211 205 161 183 108 133 245 222 195 192 165 103  91 232 235 146 154 119\n",
      " 220 235 103 212 162 106 236 231 191 191 253 201 251 107 189 146 158 253\n",
      " 136 119 219 194 205 122 153 265 270 107 225 192 146 141 264 164 203 154\n",
      " 111 115 223 214  98 118 160 235 127 248 128 133 215 242 117 190 234 262\n",
      " 245 122 260 123 232 172 169 132 165 183 181 165]\n"
     ]
    }
   ],
   "source": [
    "data=np.array(randomList)\n",
    "print(data)"
   ]
  },
  {
   "cell_type": "markdown",
   "metadata": {},
   "source": [
    "### Functions"
   ]
  },
  {
   "cell_type": "code",
   "execution_count": 23,
   "metadata": {},
   "outputs": [],
   "source": [
    "def cdConvertDegToRad(listInDeg):\n",
    "    return listInDeg*(np.pi/180)"
   ]
  },
  {
   "cell_type": "code",
   "execution_count": 24,
   "metadata": {},
   "outputs": [],
   "source": [
    "def cdConvertRadToDeg(listInRad):\n",
    "    return listInRad*(180/np.pi)"
   ]
  },
  {
   "cell_type": "code",
   "execution_count": 40,
   "metadata": {},
   "outputs": [],
   "source": [
    "def cdMeanVector(listInRad):\n",
    "    return np.mean(np.sin(listInRad)),np.mean(np.cos(listInRad))"
   ]
  },
  {
   "cell_type": "code",
   "execution_count": 26,
   "metadata": {},
   "outputs": [],
   "source": [
    "def cdVectorLength(meanVector):\n",
    "    return np.sqrt(meanVector[0]**2+meanVector[1]**2)"
   ]
  },
  {
   "cell_type": "code",
   "execution_count": 27,
   "metadata": {},
   "outputs": [],
   "source": [
    "def cdMeanAngleRad(meanVector):\n",
    "    if meanVector[0]>0 and meanVector[1]>0:\n",
    "        return np.arctan(meanVector[0]/meanVector[1])\n",
    "    if meanVector[0]>0 and meanVector[1]<0:\n",
    "        return np.pi-np.arctan(meanVector[0]/meanVector[1])\n",
    "    if meanVector[0]<0 and meanVector[1]<0:\n",
    "        return np.pi+np.arctan(meanVector[0]/meanVector[1])\n",
    "    if meanVector[0]<0 and meanVector[1]>0:\n",
    "        return (2*np.pi)-np.arctan(meanVector[0]/meanVector[1])"
   ]
  },
  {
   "cell_type": "code",
   "execution_count": 28,
   "metadata": {},
   "outputs": [],
   "source": [
    "def cdCircularSD(vectorLength):\n",
    "    return np.sqrt(-2*np.log(vectorLength))"
   ]
  },
  {
   "cell_type": "code",
   "execution_count": 48,
   "metadata": {},
   "outputs": [],
   "source": [
    "def cdCircularData(listInRad):\n",
    "    r=cdVectorLength(cdMeanVector(listInRad))\n",
    "    meanAngle=cdConvertRadToDeg(cdMeanAngleRad(cdMeanVector(listInRad)))\n",
    "    circularSD=cdConvertRadToDeg(cdCircularSD(cdVectorLength(cdMeanVector(listInRad))))\n",
    "    n=len(listInRad)\n",
    "    print(\"Vector length (r), mean angle (degrees), circular s.d. (degrees), number of angles:\")\n",
    "    return r,meanAngle,circularSD,n"
   ]
  },
  {
   "cell_type": "code",
   "execution_count": 49,
   "metadata": {},
   "outputs": [],
   "source": [
    "def cdRayleighTest(listInRad):\n",
    "    r=cdVectorLength(cdMeanVector(listInRad))\n",
    "    n=len(listInRad)\n",
    "    z=n*r**2\n",
    "    p=np.exp(-z)\n",
    "    print(\"Rayleigh test statistic (z), p-value, vector length, number of samples:\")\n",
    "    return z,p,r,n"
   ]
  },
  {
   "cell_type": "markdown",
   "metadata": {},
   "source": [
    "### Outputs"
   ]
  },
  {
   "cell_type": "code",
   "execution_count": 38,
   "metadata": {},
   "outputs": [],
   "source": [
    "dataInRadians=cdConvertDegToRad(data)"
   ]
  },
  {
   "cell_type": "code",
   "execution_count": 46,
   "metadata": {},
   "outputs": [
    {
     "name": "stdout",
     "output_type": "stream",
     "text": [
      "Vector length (r), mean angle (degrees), circular s.d. (degrees), number of angles\n"
     ]
    },
    {
     "data": {
      "text/plain": [
       "(0.6153490543986899, 180.38266566383004, 56.4626929633054, 300)"
      ]
     },
     "execution_count": 46,
     "metadata": {},
     "output_type": "execute_result"
    }
   ],
   "source": [
    "cdCircularData(dataInRadians)"
   ]
  },
  {
   "cell_type": "code",
   "execution_count": 47,
   "metadata": {},
   "outputs": [
    {
     "name": "stdout",
     "output_type": "stream",
     "text": [
      "Rayleigh test statistic (z), p-value, vector length, number of samples:\n"
     ]
    },
    {
     "data": {
      "text/plain": [
       "(113.59633762480854, 4.631667826285088e-50, 0.6153490543986899, 300)"
      ]
     },
     "execution_count": 47,
     "metadata": {},
     "output_type": "execute_result"
    }
   ],
   "source": [
    "cdRayleighTest(dataInRadians)"
   ]
  }
 ],
 "metadata": {
  "kernelspec": {
   "display_name": "Python 3",
   "language": "python",
   "name": "python3"
  },
  "language_info": {
   "codemirror_mode": {
    "name": "ipython",
    "version": 3
   },
   "file_extension": ".py",
   "mimetype": "text/x-python",
   "name": "python",
   "nbconvert_exporter": "python",
   "pygments_lexer": "ipython3",
   "version": "3.6.9"
  }
 },
 "nbformat": 4,
 "nbformat_minor": 4
}
